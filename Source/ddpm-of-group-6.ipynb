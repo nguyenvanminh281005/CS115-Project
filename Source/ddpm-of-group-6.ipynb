{
 "cells": [
  {
   "cell_type": "markdown",
   "metadata": {},
   "source": [
    "## 1. Setup môi trường <a class=\"anchor\" id=\"req_setup\"></a>"
   ]
  },
  {
   "cell_type": "code",
   "execution_count": null,
   "metadata": {
    "execution": {
     "iopub.execute_input": "2025-01-12T16:08:41.283968Z",
     "iopub.status.busy": "2025-01-12T16:08:41.283511Z",
     "iopub.status.idle": "2025-01-12T16:08:41.310588Z",
     "shell.execute_reply": "2025-01-12T16:08:41.309378Z",
     "shell.execute_reply.started": "2025-01-12T16:08:41.283853Z"
    },
    "trusted": true
   },
   "outputs": [],
   "source": [
    "# !pip install -qqq flax optax\n",
    "# !pip install -qqq --upgrade tensorflow # Kaggle throws CUDA incompatibility. May not be required in the future. chạy lần 1 xong thì có thể comment 2 dòng này đi\n",
    "\n",
    "import jax\n",
    "import optax\n",
    "import math\n",
    "\n",
    "import os\n",
    "os.environ['TF_CPP_MIN_LOG_LEVEL'] = '3'\n",
    "\n",
    "import random as r\n",
    "import numpy as np\n",
    "import tensorflow as tf\n",
    "import tensorflow_datasets as tfds\n",
    "import jax.numpy as jnp\n",
    "import jax.random as random\n",
    "import flax.linen as nn\n",
    "from flax.training import train_state\n",
    "import matplotlib.pyplot as plt\n",
    "\n",
    "from typing import Callable\n",
    "from tqdm.notebook import tqdm\n",
    "from PIL import Image\n",
    "from IPython import display\n",
    "\n",
    "\n",
    "tf.config.experimental.set_visible_devices([], 'GPU')\n",
    "\n",
    "NUM_EPOCHS = 10\n",
    "BATCH_SIZE = 64\n",
    "NUM_STEPS_PER_EPOCH = 60000//BATCH_SIZE # MNIST has 60,000 training samples"
   ]
  },
  {
   "cell_type": "markdown",
   "metadata": {},
   "source": [
    "## 2. Load data <a class=\"anchor\" id=\"req_setup\"></a>"
   ]
  },
  {
   "cell_type": "code",
   "execution_count": null,
   "metadata": {
    "execution": {
     "iopub.status.busy": "2024-12-02T03:10:23.961682Z",
     "iopub.status.idle": "2024-12-02T03:10:23.962138Z",
     "shell.execute_reply": "2024-12-02T03:10:23.961967Z",
     "shell.execute_reply.started": "2024-12-02T03:10:23.961945Z"
    },
    "trusted": true
   },
   "outputs": [],
   "source": [
    "# Load MNIST dataset\n",
    "\n",
    "def get_datasets():\n",
    "  train_ds = tfds.load('mnist', as_supervised=True, split=\"train\")\n",
    "  \n",
    "  def preprocess(x, y):\n",
    "    return tf.image.resize(tf.cast(x, tf.float32) / 127.5 - 1, (32, 32))\n",
    "\n",
    "  train_ds = train_ds.map(preprocess, tf.data.AUTOTUNE)\n",
    "  train_ds = train_ds.shuffle(5000).batch(BATCH_SIZE).prefetch(tf.data.AUTOTUNE)\n",
    "\n",
    "  return tfds.as_numpy(train_ds)\n",
    "\n",
    "\n",
    "train_ds = get_datasets()"
   ]
  },
  {
   "cell_type": "code",
   "execution_count": null,
   "metadata": {},
   "outputs": [],
   "source": []
  },
  {
   "cell_type": "code",
   "execution_count": null,
   "metadata": {
    "execution": {
     "iopub.status.busy": "2024-12-02T03:10:23.963986Z",
     "iopub.status.idle": "2024-12-02T03:10:23.964375Z",
     "shell.execute_reply": "2024-12-02T03:10:23.964226Z",
     "shell.execute_reply.started": "2024-12-02T03:10:23.964209Z"
    },
    "trusted": true
   },
   "outputs": [],
   "source": [
    "timesteps = 200\n",
    "\n",
    "beta = jnp.linspace(0.0001, 0.02, timesteps)\n",
    "\n",
    "alpha = 1 - beta\n",
    "alpha_bar = jnp.cumprod(alpha, 0)\n",
    "alpha_bar = jnp.concatenate((jnp.array([1.]), alpha_bar[:-1]), axis=0)\n",
    "sqrt_alpha_bar = jnp.sqrt(alpha_bar)\n",
    "one_minus_sqrt_alpha_bar = jnp.sqrt(1 - alpha_bar)\n",
    "\n",
    "def forward_noising(key, x_0, t):\n",
    "  noise = random.normal(key, x_0.shape)  \n",
    "  reshaped_sqrt_alpha_bar_t = jnp.reshape(jnp.take(sqrt_alpha_bar, t), (-1, 1, 1, 1))\n",
    "  reshaped_one_minus_sqrt_alpha_bar_t = jnp.reshape(jnp.take(one_minus_sqrt_alpha_bar, t), (-1, 1, 1, 1))\n",
    "  noisy_image = reshaped_sqrt_alpha_bar_t  * x_0 + reshaped_one_minus_sqrt_alpha_bar_t  * noise\n",
    "  return noisy_image, noise"
   ]
  },
  {
   "cell_type": "code",
   "execution_count": null,
   "metadata": {
    "execution": {
     "iopub.status.busy": "2024-12-02T03:10:23.967212Z",
     "iopub.status.idle": "2024-12-02T03:10:23.967630Z",
     "shell.execute_reply": "2024-12-02T03:10:23.967430Z",
     "shell.execute_reply.started": "2024-12-02T03:10:23.967413Z"
    },
    "trusted": true
   },
   "outputs": [],
   "source": [
    "class SinusoidalEmbedding(nn.Module):\n",
    "  dim: int = 32\n",
    "  \n",
    "  def __call__(self, inputs):\n",
    "    half_dim = self.dim // 2\n",
    "    emb = math.log(10000) / (half_dim - 1)\n",
    "    emb = jnp.exp(jnp.arange(half_dim) * -emb)\n",
    "    emb = inputs[:, None] * emb[None, :]\n",
    "    emb = jnp.concatenate([jnp.sin(emb), jnp.cos(emb)], -1)\n",
    "    return emb\n",
    "\n",
    "\n",
    "class TimeEmbedding(nn.Module):\n",
    "  dim: int = 32\n",
    "  def __call__(self, inputs):\n",
    "    time_dim = self.dim * 4\n",
    "    \n",
    "    se = SinusoidalEmbedding(self.dim)(inputs)\n",
    "    \n",
    "    x = nn.Dense(time_dim)(se)\n",
    "    x = nn.gelu(x)\n",
    "    x = nn.Dense(time_dim)(x)\n",
    "    \n",
    "    return x"
   ]
  },
  {
   "cell_type": "code",
   "execution_count": null,
   "metadata": {
    "execution": {
     "iopub.status.busy": "2024-12-02T03:10:23.969628Z",
     "iopub.status.idle": "2024-12-02T03:10:23.970056Z",
     "shell.execute_reply": "2024-12-02T03:10:23.969899Z",
     "shell.execute_reply.started": "2024-12-02T03:10:23.969878Z"
    },
    "trusted": true
   },
   "outputs": [],
   "source": [
    "# Standard dot-product attention with eight heads.\n",
    "class Attention(nn.Module):\n",
    "    dim: int\n",
    "    num_heads: int = 8\n",
    "    use_bias: bool = False\n",
    "    kernel_init: Callable = nn.initializers.xavier_uniform()\n",
    "\n",
    "    @nn.compact\n",
    "    def __call__(self, inputs):\n",
    "        batch, h, w, channels = inputs.shape\n",
    "        inputs = inputs.reshape(batch, h*w, channels)\n",
    "        batch, n, channels = inputs.shape\n",
    "        scale = (self.dim // self.num_heads) ** -0.5\n",
    "        qkv = nn.Dense(\n",
    "            self.dim * 3, use_bias=self.use_bias, kernel_init=self.kernel_init\n",
    "        )(inputs)\n",
    "        qkv = jnp.reshape(\n",
    "            qkv, (batch, n, 3, self.num_heads, channels // self.num_heads)\n",
    "        )\n",
    "        qkv = jnp.transpose(qkv, (2, 0, 3, 1, 4))\n",
    "        q, k, v = qkv[0], qkv[1], qkv[2]\n",
    "\n",
    "        attention = (q @ jnp.swapaxes(k, -2, -1)) * scale\n",
    "        attention = nn.softmax(attention, axis=-1)\n",
    "\n",
    "        x = (attention @ v).swapaxes(1, 2).reshape(batch, n, channels)\n",
    "        x = nn.Dense(self.dim, kernel_init=nn.initializers.xavier_uniform())(x)\n",
    "        x = jnp.reshape(x, (batch, int(x.shape[1]** 0.5), int(x.shape[1]** 0.5), -1))\n",
    "        return x"
   ]
  },
  {
   "cell_type": "code",
   "execution_count": null,
   "metadata": {
    "execution": {
     "iopub.status.busy": "2024-12-02T03:10:23.971818Z",
     "iopub.status.idle": "2024-12-02T03:10:23.972349Z",
     "shell.execute_reply": "2024-12-02T03:10:23.972120Z",
     "shell.execute_reply.started": "2024-12-02T03:10:23.972094Z"
    },
    "trusted": true
   },
   "outputs": [],
   "source": [
    "class Block(nn.Module):\n",
    "  dim: int = 32\n",
    "  groups: int = 8\n",
    "\n",
    "  @nn.compact\n",
    "  def __call__(self, inputs):\n",
    "    conv = nn.Conv(self.dim, (3, 3))(inputs)\n",
    "    norm = nn.GroupNorm(num_groups=self.groups)(conv)\n",
    "    activation = nn.silu(norm)\n",
    "    return activation\n",
    "\n",
    "\n",
    "class ResnetBlock(nn.Module):\n",
    "  dim: int = 32\n",
    "  groups: int = 8\n",
    "\n",
    "  @nn.compact\n",
    "  def __call__(self, inputs, time_embed=None):\n",
    "    x = Block(self.dim, self.groups)(inputs)\n",
    "    if time_embed is not None:\n",
    "      time_embed = nn.silu(time_embed)\n",
    "      time_embed = nn.Dense(self.dim)(time_embed)\n",
    "      x = jnp.expand_dims(jnp.expand_dims(time_embed, 1), 1) + x\n",
    "    x = Block(self.dim, self.groups)(x)\n",
    "    res_conv = nn.Conv(self.dim, (1, 1), padding=\"SAME\")(inputs)\n",
    "    return x + res_conv"
   ]
  },
  {
   "cell_type": "code",
   "execution_count": null,
   "metadata": {
    "execution": {
     "iopub.status.busy": "2024-12-02T03:10:23.974746Z",
     "iopub.status.idle": "2024-12-02T03:10:23.975319Z",
     "shell.execute_reply": "2024-12-02T03:10:23.975076Z",
     "shell.execute_reply.started": "2024-12-02T03:10:23.975049Z"
    },
    "trusted": true
   },
   "outputs": [],
   "source": [
    "class UNet(nn.Module):\n",
    "  dim: int = 8\n",
    "  dim_scale_factor: tuple = (1, 2, 4, 8)\n",
    "  num_groups: int = 8\n",
    "\n",
    "\n",
    "  @nn.compact\n",
    "  def __call__(self, inputs):\n",
    "    inputs, time = inputs\n",
    "    channels = inputs.shape[-1]\n",
    "    x = nn.Conv(self.dim // 3 * 2, (7, 7), padding=((3,3), (3,3)))(inputs)\n",
    "    time_emb = TimeEmbedding(self.dim)(time)\n",
    "    \n",
    "    dims = [self.dim * i for i in self.dim_scale_factor]\n",
    "    pre_downsampling = []\n",
    "\n",
    "    for index, dim in enumerate(dims):\n",
    "      x = ResnetBlock(dim, self.num_groups)(x, time_emb)\n",
    "      x = ResnetBlock(dim, self.num_groups)(x, time_emb)\n",
    "      att = Attention(dim)(x)\n",
    "      norm = nn.GroupNorm(self.num_groups)(att)\n",
    "      x = norm + x\n",
    "      pre_downsampling.append(x)\n",
    "      if index != len(dims) - 1:\n",
    "        x = nn.Conv(dim, (4,4), (2,2))(x)\n",
    "\n",
    "    x = ResnetBlock(dims[-1], self.num_groups)(x, time_emb)\n",
    "    att = Attention(dim)(x)\n",
    "    norm = nn.GroupNorm(self.num_groups)(att)\n",
    "    x = norm + x \n",
    "    x = ResnetBlock(dims[-1], self.num_groups)(x, time_emb)\n",
    "    \n",
    "    for index, dim in enumerate(reversed(dims)):\n",
    "      x = jnp.concatenate([pre_downsampling.pop(), x], -1)\n",
    "      x = ResnetBlock(dim, self.num_groups)(x, time_emb)\n",
    "      x = ResnetBlock(dim, self.num_groups)(x, time_emb)\n",
    "      att = Attention(dim)(x)\n",
    "      norm = nn.GroupNorm(self.num_groups)(att)\n",
    "      x = norm + x\n",
    "      if index != len(dims) - 1:\n",
    "        x = nn.ConvTranspose(dim, (4,4), (2,2))(x)\n",
    "\n",
    "    x = ResnetBlock(dim, self.num_groups)(x, time_emb)\n",
    "    x = nn.Conv(channels, (1,1), padding=\"SAME\")(x)\n",
    "    return x\n",
    "\n",
    "model = UNet(32)"
   ]
  },
  {
   "cell_type": "code",
   "execution_count": null,
   "metadata": {
    "execution": {
     "iopub.status.busy": "2024-12-02T03:10:23.976451Z",
     "iopub.status.idle": "2024-12-02T03:10:23.977042Z",
     "shell.execute_reply": "2024-12-02T03:10:23.976785Z",
     "shell.execute_reply.started": "2024-12-02T03:10:23.976746Z"
    },
    "trusted": true
   },
   "outputs": [],
   "source": [
    "def apply_model(state, noisy_images, noise, timestamp):\n",
    "  \"\"\"Computes gradients and loss for a single batch.\"\"\"\n",
    "  def loss_fn(params):\n",
    "    \n",
    "    pred_noise = model.apply({'params': params}, [noisy_images, timestamp])\n",
    "    \n",
    "    # Calculate and return the MSE value\n",
    "    loss = jnp.mean((noise - pred_noise) ** 2)\n",
    "    return loss\n",
    "\n",
    "  grad_fn = jax.value_and_grad(loss_fn, has_aux=False)\n",
    "  loss, grads = grad_fn(state.params)\n",
    "  return grads, loss\n",
    "\n",
    "def update_model(state, grads):\n",
    "  \"\"\"Applies gradients to the model\"\"\"\n",
    "  return state.apply_gradients(grads=grads)"
   ]
  },
  {
   "cell_type": "code",
   "execution_count": null,
   "metadata": {
    "execution": {
     "iopub.status.busy": "2024-12-02T03:10:23.979045Z",
     "iopub.status.idle": "2024-12-02T03:10:23.979421Z",
     "shell.execute_reply": "2024-12-02T03:10:23.979268Z",
     "shell.execute_reply.started": "2024-12-02T03:10:23.979249Z"
    },
    "trusted": true
   },
   "outputs": [],
   "source": [
    "def train_epoch(epoch_num, state, train_ds, batch_size, rng):\n",
    "  epoch_loss = []\n",
    "  for index, batch_images in enumerate(tqdm(train_ds)):\n",
    "    rng, tsrng = random.split(rng)\n",
    "    \n",
    "    timestamps = random.randint(tsrng, \n",
    "                                shape=(batch_images.shape[0],), \n",
    "                                minval=0, maxval=timesteps)\n",
    "\n",
    "    noisy_images, noise = forward_noising(rng, batch_images, timestamps)\n",
    "    \n",
    "    grads, loss = apply_model(state, noisy_images, noise, timestamps)\n",
    "    \n",
    "    state = update_model(state, grads)\n",
    "    \n",
    "    epoch_loss.append(loss)\n",
    "    if index % 100 == 0:\n",
    "      print(f\"Loss at step {index}: \", loss)\n",
    "    \n",
    "    del timestamps \n",
    "  \n",
    "  train_loss = np.mean(epoch_loss)\n",
    "\n",
    "\n",
    "  return state, train_loss"
   ]
  },
  {
   "cell_type": "code",
   "execution_count": null,
   "metadata": {
    "execution": {
     "iopub.status.busy": "2024-12-02T03:10:23.980916Z",
     "iopub.status.idle": "2024-12-02T03:10:23.981264Z",
     "shell.execute_reply": "2024-12-02T03:10:23.981125Z",
     "shell.execute_reply.started": "2024-12-02T03:10:23.981109Z"
    },
    "trusted": true
   },
   "outputs": [],
   "source": [
    "from flax.training import train_state\n",
    "\n",
    "def create_train_state(rng):\n",
    "  \n",
    "  params = model.init(rng, [jnp.ones([1, 32, 32, 1]), jnp.ones([1,])])['params']\n",
    "  \n",
    "  tx = optax.adam(1e-4)\n",
    "  \n",
    "  return train_state.TrainState.create(apply_fn=model.apply, params=params, tx=tx)"
   ]
  },
  {
   "cell_type": "code",
   "execution_count": null,
   "metadata": {
    "execution": {
     "iopub.status.busy": "2024-12-02T03:10:23.982935Z",
     "iopub.status.idle": "2024-12-02T03:10:23.983328Z",
     "shell.execute_reply": "2024-12-02T03:10:23.983177Z",
     "shell.execute_reply.started": "2024-12-02T03:10:23.983159Z"
    },
    "trusted": true
   },
   "outputs": [],
   "source": [
    "log_state = []\n",
    "\n",
    "def train(train_ds) -> train_state.TrainState:\n",
    "  rng = jax.random.PRNGKey(0)\n",
    "\n",
    "  rng, init_rng = jax.random.split(rng)\n",
    "\n",
    "  state = create_train_state(init_rng)\n",
    "\n",
    "  for epoch in range(1, NUM_EPOCHS + 1):\n",
    "    rng, input_rng = jax.random.split(rng)\n",
    "    \n",
    "    state, train_loss = train_epoch(epoch, state, train_ds, BATCH_SIZE, input_rng)\n",
    "    print(f\"Training loss after epoch {epoch}: \", train_loss)\n",
    "    log_state.append(state) # Optional\n",
    "\n",
    "  return state"
   ]
  },
  {
   "cell_type": "code",
   "execution_count": null,
   "metadata": {
    "execution": {
     "iopub.status.busy": "2024-12-02T03:10:23.984739Z",
     "iopub.status.idle": "2024-12-02T03:10:23.985180Z",
     "shell.execute_reply": "2024-12-02T03:10:23.985023Z",
     "shell.execute_reply.started": "2024-12-02T03:10:23.984998Z"
    },
    "trusted": true
   },
   "outputs": [],
   "source": [
    "trained_state = train(train_ds)"
   ]
  },
  {
   "cell_type": "code",
   "execution_count": null,
   "metadata": {
    "execution": {
     "iopub.status.busy": "2024-12-02T03:10:23.986400Z",
     "iopub.status.idle": "2024-12-02T03:10:23.986885Z",
     "shell.execute_reply": "2024-12-02T03:10:23.986657Z",
     "shell.execute_reply.started": "2024-12-02T03:10:23.986635Z"
    },
    "trusted": true
   },
   "outputs": [],
   "source": [
    "def backward_denoising_ddpm(x_t, pred_noise, t):\n",
    "  alpha_t = jnp.take(alpha, t)\n",
    "  alpha_t_bar = jnp.take(alpha_bar, t)\n",
    "  \n",
    "  eps_coef = (1 - alpha_t) / (1 - alpha_t_bar) ** .5  \n",
    "  mean = 1 / (alpha_t ** 0.5) * (x_t - eps_coef * pred_noise)\n",
    "  \n",
    "  var = jnp.take(beta, t)\n",
    "  z = random.normal(key=random.PRNGKey(r.randint(1, 100)), shape=x_t.shape)\n",
    "\n",
    "  return mean + (var ** 0.5) * z"
   ]
  },
  {
   "cell_type": "code",
   "execution_count": null,
   "metadata": {
    "execution": {
     "iopub.status.busy": "2024-12-02T03:10:23.988799Z",
     "iopub.status.idle": "2024-12-02T03:10:23.989169Z",
     "shell.execute_reply": "2024-12-02T03:10:23.989022Z",
     "shell.execute_reply.started": "2024-12-02T03:10:23.989005Z"
    },
    "trusted": true
   },
   "outputs": [],
   "source": [
    "def save_gif(img_list, path=\"\"):\n",
    "    imgs = (Image.fromarray(np.array((np.array(i) * 127.5) + 1, np.int32)) for i in img_list)\n",
    "    img = next(imgs)  \n",
    "    img.save(fp=path, format='GIF', append_images=imgs,\n",
    "             save_all=True, duration=200, loop=0)"
   ]
  },
  {
   "cell_type": "code",
   "execution_count": null,
   "metadata": {
    "execution": {
     "iopub.status.busy": "2024-12-02T03:10:23.990931Z",
     "iopub.status.idle": "2024-12-02T03:10:23.991287Z",
     "shell.execute_reply": "2024-12-02T03:10:23.991153Z",
     "shell.execute_reply.started": "2024-12-02T03:10:23.991137Z"
    },
    "trusted": true
   },
   "outputs": [],
   "source": [
    "x = random.normal(random.PRNGKey(42), (1, 32, 32, 1))\n",
    "\n",
    "trained_state = log_state[-1]\n",
    "\n",
    "img_list_ddpm = []\n",
    "\n",
    "img_list_ddpm.append(jnp.squeeze(jnp.squeeze(x, 0),-1))\n",
    "\n",
    "for i in tqdm(range(0, timesteps - 1)):\n",
    "  # t-th timestep  \n",
    "  t = jnp.expand_dims(jnp.array(timesteps - i - 1, jnp.int32), 0)\n",
    "\n",
    "  pred_noise = model.apply({'params': trained_state.params}, [x, t])\n",
    "\n",
    "  x = backward_denoising_ddpm(x, pred_noise, t)\n",
    "\n",
    "  if i % 25 == 0:\n",
    "    img_list_ddpm.append(jnp.squeeze(jnp.squeeze(x, 0),-1))\n",
    "    plt.imshow(jnp.squeeze(jnp.squeeze(x, 0),-1), cmap='gray')\n",
    "    plt.show()\n",
    "\n",
    "plt.imshow(jnp.squeeze(jnp.squeeze(x, 0),-1), cmap='gray')\n",
    "plt.show()\n",
    "\n",
    "save_gif(img_list_ddpm, path=\"output_ddpm.gif\")"
   ]
  },
  {
   "cell_type": "code",
   "execution_count": null,
   "metadata": {
    "execution": {
     "iopub.status.busy": "2024-12-02T03:10:23.992568Z",
     "iopub.status.idle": "2024-12-02T03:10:23.993017Z",
     "shell.execute_reply": "2024-12-02T03:10:23.992863Z",
     "shell.execute_reply.started": "2024-12-02T03:10:23.992844Z"
    },
    "trusted": true
   },
   "outputs": [],
   "source": [
    "display.Image(url='output_ddpm.gif', width=128, height=128)"
   ]
  }
 ],
 "metadata": {
  "kaggle": {
   "accelerator": "gpu",
   "dataSources": [],
   "dockerImageVersionId": 30197,
   "isGpuEnabled": true,
   "isInternetEnabled": false,
   "language": "python",
   "sourceType": "notebook"
  },
  "kernelspec": {
   "display_name": "Python 3",
   "language": "python",
   "name": "python3"
  },
  "language_info": {
   "codemirror_mode": {
    "name": "ipython",
    "version": 3
   },
   "file_extension": ".py",
   "mimetype": "text/x-python",
   "name": "python",
   "nbconvert_exporter": "python",
   "pygments_lexer": "ipython3",
   "version": "3.11.9"
  }
 },
 "nbformat": 4,
 "nbformat_minor": 4
}
