{
 "cells": [
  {
   "cell_type": "code",
   "execution_count": 1,
   "id": "a388c38b-3054-41c7-8c9f-0a4f04b84895",
   "metadata": {},
   "outputs": [],
   "source": [
    "import tensorflow as tf"
   ]
  },
  {
   "cell_type": "code",
   "execution_count": 2,
   "id": "06705280-f0dc-49b9-9237-44f973e5e7a7",
   "metadata": {},
   "outputs": [],
   "source": [
    "import pandas as pd"
   ]
  },
  {
   "cell_type": "code",
   "execution_count": 3,
   "id": "d75c35ac-a74c-4879-a8b7-52585fa6c961",
   "metadata": {},
   "outputs": [
    {
     "name": "stdout",
     "output_type": "stream",
     "text": [
      "Requirement already satisfied: tensorflow-datasets in d:\\apps\\anaconda\\lib\\site-packages (4.9.7)\n",
      "Requirement already satisfied: absl-py in c:\\users\\admin\\appdata\\roaming\\python\\python312\\site-packages (from tensorflow-datasets) (2.1.0)\n",
      "Requirement already satisfied: click in d:\\apps\\anaconda\\lib\\site-packages (from tensorflow-datasets) (8.1.7)\n",
      "Requirement already satisfied: dm-tree in d:\\apps\\anaconda\\lib\\site-packages (from tensorflow-datasets) (0.1.8)\n",
      "Requirement already satisfied: immutabledict in d:\\apps\\anaconda\\lib\\site-packages (from tensorflow-datasets) (4.2.1)\n",
      "Requirement already satisfied: numpy in c:\\users\\admin\\appdata\\roaming\\python\\python312\\site-packages (from tensorflow-datasets) (1.26.4)\n",
      "Requirement already satisfied: promise in d:\\apps\\anaconda\\lib\\site-packages (from tensorflow-datasets) (2.3)\n",
      "Requirement already satisfied: protobuf>=3.20 in c:\\users\\admin\\appdata\\roaming\\python\\python312\\site-packages (from tensorflow-datasets) (4.25.3)\n",
      "Requirement already satisfied: psutil in c:\\users\\admin\\appdata\\roaming\\python\\python312\\site-packages (from tensorflow-datasets) (5.9.8)\n",
      "Requirement already satisfied: pyarrow in d:\\apps\\anaconda\\lib\\site-packages (from tensorflow-datasets) (14.0.2)\n",
      "Requirement already satisfied: requests>=2.19.0 in c:\\users\\admin\\appdata\\roaming\\python\\python312\\site-packages (from tensorflow-datasets) (2.31.0)\n",
      "Requirement already satisfied: simple-parsing in d:\\apps\\anaconda\\lib\\site-packages (from tensorflow-datasets) (0.1.6)\n",
      "Requirement already satisfied: tensorflow-metadata in d:\\apps\\anaconda\\lib\\site-packages (from tensorflow-datasets) (1.16.1)\n",
      "Requirement already satisfied: termcolor in c:\\users\\admin\\appdata\\roaming\\python\\python312\\site-packages (from tensorflow-datasets) (2.4.0)\n",
      "Requirement already satisfied: toml in d:\\apps\\anaconda\\lib\\site-packages (from tensorflow-datasets) (0.10.2)\n",
      "Requirement already satisfied: tqdm in c:\\users\\admin\\appdata\\roaming\\python\\python312\\site-packages (from tensorflow-datasets) (4.66.2)\n",
      "Requirement already satisfied: wrapt in c:\\users\\admin\\appdata\\roaming\\python\\python312\\site-packages (from tensorflow-datasets) (1.16.0)\n",
      "Requirement already satisfied: etils>=1.9.1 in d:\\apps\\anaconda\\lib\\site-packages (from etils[edc,enp,epath,epy,etree]>=1.9.1; python_version >= \"3.11\"->tensorflow-datasets) (1.11.0)\n",
      "Requirement already satisfied: fsspec in d:\\apps\\anaconda\\lib\\site-packages (from etils[edc,enp,epath,epy,etree]>=1.9.1; python_version >= \"3.11\"->tensorflow-datasets) (2024.3.1)\n",
      "Requirement already satisfied: importlib_resources in d:\\apps\\anaconda\\lib\\site-packages (from etils[edc,enp,epath,epy,etree]>=1.9.1; python_version >= \"3.11\"->tensorflow-datasets) (6.5.2)\n",
      "Requirement already satisfied: typing_extensions in c:\\users\\admin\\appdata\\roaming\\python\\python312\\site-packages (from etils[edc,enp,epath,epy,etree]>=1.9.1; python_version >= \"3.11\"->tensorflow-datasets) (4.10.0)\n",
      "Requirement already satisfied: zipp in d:\\apps\\anaconda\\lib\\site-packages (from etils[edc,enp,epath,epy,etree]>=1.9.1; python_version >= \"3.11\"->tensorflow-datasets) (3.17.0)\n",
      "Requirement already satisfied: charset-normalizer<4,>=2 in c:\\users\\admin\\appdata\\roaming\\python\\python312\\site-packages (from requests>=2.19.0->tensorflow-datasets) (3.3.2)\n",
      "Requirement already satisfied: idna<4,>=2.5 in c:\\users\\admin\\appdata\\roaming\\python\\python312\\site-packages (from requests>=2.19.0->tensorflow-datasets) (3.6)\n",
      "Requirement already satisfied: urllib3<3,>=1.21.1 in c:\\users\\admin\\appdata\\roaming\\python\\python312\\site-packages (from requests>=2.19.0->tensorflow-datasets) (2.2.1)\n",
      "Requirement already satisfied: certifi>=2017.4.17 in c:\\users\\admin\\appdata\\roaming\\python\\python312\\site-packages (from requests>=2.19.0->tensorflow-datasets) (2024.2.2)\n",
      "Requirement already satisfied: colorama in c:\\users\\admin\\appdata\\roaming\\python\\python312\\site-packages (from click->tensorflow-datasets) (0.4.6)\n",
      "Requirement already satisfied: six in c:\\users\\admin\\appdata\\roaming\\python\\python312\\site-packages (from promise->tensorflow-datasets) (1.16.0)\n",
      "Requirement already satisfied: docstring-parser<1.0,>=0.15 in d:\\apps\\anaconda\\lib\\site-packages (from simple-parsing->tensorflow-datasets) (0.16)\n",
      "Requirement already satisfied: googleapis-common-protos<2,>=1.56.4 in d:\\apps\\anaconda\\lib\\site-packages (from tensorflow-metadata->tensorflow-datasets) (1.66.0)\n"
     ]
    }
   ],
   "source": [
    "!pip install tensorflow-datasets"
   ]
  },
  {
   "cell_type": "code",
   "execution_count": 20,
   "id": "b543e756-0f9a-4efb-a041-8b318e493547",
   "metadata": {},
   "outputs": [
    {
     "name": "stdout",
     "output_type": "stream",
     "text": [
      "env: XLA_PYTHON_CLIENT_MEM_FRACTION=0.8\n"
     ]
    }
   ],
   "source": [
    "# !pip install -qqq flax optax\n",
    "# !pip install -qqq --upgrade tensorflow # Kaggle throws CUDA incompatibility. May not be required in the future. chạy lần 1 xong thì có thể comment 2 dòng này đi\n",
    "\n",
    "import jax\n",
    "import optax\n",
    "import math\n",
    "\n",
    "import os\n",
    "os.environ['TF_CPP_MIN_LOG_LEVEL'] = '3'\n",
    "\n",
    "import random as r\n",
    "import numpy as np\n",
    "import tensorflow as tf\n",
    "import tensorflow_datasets as tfds\n",
    "import jax.numpy as jnp\n",
    "import jax.random as random\n",
    "import flax.linen as nn\n",
    "from flax.training import train_state\n",
    "import matplotlib.pyplot as plt\n",
    "\n",
    "from typing import Callable\n",
    "from tqdm.notebook import tqdm\n",
    "from PIL import Image\n",
    "from IPython import display\n",
    "\n",
    "\n",
    "%env XLA_PYTHON_CLIENT_MEM_FRACTION=0.8\n",
    "\n",
    "tf.config.experimental.set_visible_devices([], 'GPU')\n",
    "\n",
    "NUM_EPOCHS = 2\n",
    "BATCH_SIZE = 16\n",
    "NUM_STEPS_PER_EPOCH = 60000//BATCH_SIZE"
   ]
  },
  {
   "cell_type": "code",
   "execution_count": 5,
   "id": "df1c0488-1fe5-4b7a-b571-86929a738073",
   "metadata": {},
   "outputs": [],
   "source": [
    "# Load MNIST dataset\n",
    "\n",
    "def get_datasets():\n",
    "  train_ds = tfds.load('mnist', as_supervised=True, split=\"train\")\n",
    "  \n",
    "  def preprocess(x, y):\n",
    "    return tf.image.resize(tf.cast(x, tf.float32) / 127.5 - 1, (32, 32))\n",
    "\n",
    "  train_ds = train_ds.map(preprocess, tf.data.AUTOTUNE)\n",
    "  train_ds = train_ds.shuffle(5000).batch(BATCH_SIZE).prefetch(tf.data.AUTOTUNE)\n",
    "\n",
    "  return tfds.as_numpy(train_ds)\n",
    "\n",
    "\n",
    "train_ds = get_datasets()"
   ]
  },
  {
   "cell_type": "code",
   "execution_count": 6,
   "id": "09cf69f7-4cf5-4c79-b28c-50c5e801c422",
   "metadata": {},
   "outputs": [],
   "source": [
    "timesteps = 200\n",
    "\n",
    "beta = jnp.linspace(0.0001, 0.02, timesteps)\n",
    "\n",
    "alpha = 1 - beta\n",
    "alpha_bar = jnp.cumprod(alpha, 0)\n",
    "alpha_bar = jnp.concatenate((jnp.array([1.]), alpha_bar[:-1]), axis=0)\n",
    "sqrt_alpha_bar = jnp.sqrt(alpha_bar)\n",
    "one_minus_sqrt_alpha_bar = jnp.sqrt(1 - alpha_bar)\n",
    "\n",
    "def forward_noising(key, x_0, t):\n",
    "  noise = random.normal(key, x_0.shape)  \n",
    "  reshaped_sqrt_alpha_bar_t = jnp.reshape(jnp.take(sqrt_alpha_bar, t), (-1, 1, 1, 1))\n",
    "  reshaped_one_minus_sqrt_alpha_bar_t = jnp.reshape(jnp.take(one_minus_sqrt_alpha_bar, t), (-1, 1, 1, 1))\n",
    "  noisy_image = reshaped_sqrt_alpha_bar_t  * x_0 + reshaped_one_minus_sqrt_alpha_bar_t  * noise\n",
    "  return noisy_image, noise"
   ]
  },
  {
   "cell_type": "code",
   "execution_count": 7,
   "id": "b259e697-2ee7-4022-85b5-1adcf25e0ee8",
   "metadata": {},
   "outputs": [
    {
     "data": {
      "image/png": "[encoded data removed]",
      "text/plain": [
       "<Figure size 1500x3000 with 4 Axes>"
      ]
     },
     "metadata": {},
     "output_type": "display_data"
    }
   ],
   "source": [
    "sample_mnist = next(iter(train_ds))[0]\n",
    "\n",
    "fig = plt.figure(figsize=(15, 30))\n",
    "\n",
    "for index, i in enumerate([10, 50, 100, 185]):\n",
    "  noisy_im, noise = forward_noising(random.PRNGKey(0), jnp.expand_dims(sample_mnist, 0), jnp.array([i,]))\n",
    "  plt.subplot(1, 4, index+1)\n",
    "  plt.imshow(jnp.squeeze(jnp.squeeze(noisy_im, -1),0), cmap='gray')\n",
    "\n",
    "plt.show()"
   ]
  },
  {
   "cell_type": "code",
   "execution_count": 8,
   "id": "4c544ba6-9f45-4f95-bcf3-220e3e93b593",
   "metadata": {},
   "outputs": [],
   "source": [
    "class SinusoidalEmbedding(nn.Module):\n",
    "  dim: int = 32\n",
    "  \n",
    "  @nn.compact\n",
    "  def __call__(self, inputs):\n",
    "    half_dim = self.dim // 2\n",
    "    emb = math.log(10000) / (half_dim - 1)\n",
    "    emb = jnp.exp(jnp.arange(half_dim) * -emb)\n",
    "    emb = inputs[:, None] * emb[None, :]\n",
    "    emb = jnp.concatenate([jnp.sin(emb), jnp.cos(emb)], -1)\n",
    "    return emb\n",
    "\n",
    "\n",
    "class TimeEmbedding(nn.Module):\n",
    "  dim: int = 32\n",
    "  @nn.compact\n",
    "  def __call__(self, inputs):\n",
    "    time_dim = self.dim * 4\n",
    "    \n",
    "    se = SinusoidalEmbedding(self.dim)(inputs)\n",
    "    \n",
    "    x = nn.Dense(time_dim)(se)\n",
    "    x = nn.gelu(x)\n",
    "    x = nn.Dense(time_dim)(x)\n",
    "    \n",
    "    return x"
   ]
  },
  {
   "cell_type": "code",
   "execution_count": 9,
   "id": "fa553546-c36a-4cb0-a632-f9ad99583f45",
   "metadata": {},
   "outputs": [],
   "source": [
    "class Attention(nn.Module):\n",
    "    dim: int\n",
    "    num_heads: int = 8\n",
    "    use_bias: bool = False\n",
    "    kernel_init: Callable = nn.initializers.xavier_uniform()\n",
    "\n",
    "    @nn.compact\n",
    "    def __call__(self, inputs):\n",
    "        batch, h, w, channels = inputs.shape\n",
    "        inputs = inputs.reshape(batch, h*w, channels)\n",
    "        batch, n, channels = inputs.shape\n",
    "        scale = (self.dim // self.num_heads) ** -0.5\n",
    "        qkv = nn.Dense(\n",
    "            self.dim * 3, use_bias=self.use_bias, kernel_init=self.kernel_init\n",
    "        )(inputs)\n",
    "        qkv = jnp.reshape(\n",
    "            qkv, (batch, n, 3, self.num_heads, channels // self.num_heads)\n",
    "        )\n",
    "        qkv = jnp.transpose(qkv, (2, 0, 3, 1, 4))\n",
    "        q, k, v = qkv[0], qkv[1], qkv[2]\n",
    "\n",
    "        attention = (q @ jnp.swapaxes(k, -2, -1)) * scale\n",
    "        attention = nn.softmax(attention, axis=-1)\n",
    "\n",
    "        x = (attention @ v).swapaxes(1, 2).reshape(batch, n, channels)\n",
    "        x = nn.Dense(self.dim, kernel_init=nn.initializers.xavier_uniform())(x)\n",
    "        x = jnp.reshape(x, (batch, int(x.shape[1]** 0.5), int(x.shape[1]** 0.5), -1))\n",
    "        return x"
   ]
  },
  {
   "cell_type": "code",
   "execution_count": 10,
   "id": "074c1612-2844-4b2e-b5b3-a3c48ff755b4",
   "metadata": {},
   "outputs": [],
   "source": [
    "class Block(nn.Module):\n",
    "  dim: int = 32\n",
    "  groups: int = 8\n",
    "\n",
    "  @nn.compact\n",
    "  def __call__(self, inputs):\n",
    "    conv = nn.Conv(self.dim, (3, 3))(inputs)\n",
    "    norm = nn.GroupNorm(num_groups=self.groups)(conv)\n",
    "    activation = nn.silu(norm)\n",
    "    return activation\n",
    "\n",
    "\n",
    "class ResnetBlock(nn.Module):\n",
    "  dim: int = 32\n",
    "  groups: int = 8\n",
    "\n",
    "  @nn.compact\n",
    "  def __call__(self, inputs, time_embed=None):\n",
    "    x = Block(self.dim, self.groups)(inputs)\n",
    "    if time_embed is not None:\n",
    "      time_embed = nn.silu(time_embed)\n",
    "      time_embed = nn.Dense(self.dim)(time_embed)\n",
    "      x = jnp.expand_dims(jnp.expand_dims(time_embed, 1), 1) + x\n",
    "    x = Block(self.dim, self.groups)(x)\n",
    "    res_conv = nn.Conv(self.dim, (1, 1), padding=\"SAME\")(inputs)\n",
    "    return x + res_conv"
   ]
  },
  {
   "cell_type": "code",
   "execution_count": 11,
   "id": "2868b955-5375-4703-b754-cf165b458ddf",
   "metadata": {},
   "outputs": [],
   "source": [
    "class UNet(nn.Module):\n",
    "  dim: int = 8\n",
    "  dim_scale_factor: tuple = (1, 2, 4, 8)\n",
    "  num_groups: int = 8\n",
    "\n",
    "\n",
    "  @nn.compact\n",
    "  def __call__(self, inputs):\n",
    "    inputs, time = inputs\n",
    "    channels = inputs.shape[-1]\n",
    "    x = nn.Conv(self.dim // 3 * 2, (7, 7), padding=((3,3), (3,3)))(inputs)\n",
    "    time_emb = TimeEmbedding(self.dim)(time)\n",
    "    \n",
    "    dims = [self.dim * i for i in self.dim_scale_factor]\n",
    "    pre_downsampling = []\n",
    "    \n",
    "    for index, dim in enumerate(dims):\n",
    "      x = ResnetBlock(dim, self.num_groups)(x, time_emb)\n",
    "      x = ResnetBlock(dim, self.num_groups)(x, time_emb)\n",
    "      att = Attention(dim)(x)\n",
    "      norm = nn.GroupNorm(self.num_groups)(att)\n",
    "      x = norm + x\n",
    "\n",
    "      pre_downsampling.append(x)\n",
    "      if index != len(dims) - 1:\n",
    "        x = nn.Conv(dim, (4,4), (2,2))(x)\n",
    "    \n",
    "    x = ResnetBlock(dims[-1], self.num_groups)(x, time_emb)\n",
    "    att = Attention(dim)(x)\n",
    "    norm = nn.GroupNorm(self.num_groups)(att)\n",
    "    x = norm + x \n",
    "    x = ResnetBlock(dims[-1], self.num_groups)(x, time_emb)\n",
    "    \n",
    "    for index, dim in enumerate(reversed(dims)):\n",
    "      x = jnp.concatenate([pre_downsampling.pop(), x], -1)\n",
    "      x = ResnetBlock(dim, self.num_groups)(x, time_emb)\n",
    "      x = ResnetBlock(dim, self.num_groups)(x, time_emb)\n",
    "      att = Attention(dim)(x)\n",
    "      norm = nn.GroupNorm(self.num_groups)(att)\n",
    "      x = norm + x\n",
    "      if index != len(dims) - 1:\n",
    "        x = nn.ConvTranspose(dim, (4,4), (2,2))(x)\n",
    "\n",
    "    x = ResnetBlock(dim, self.num_groups)(x, time_emb)\n",
    "    x = nn.Conv(channels, (1,1), padding=\"SAME\")(x)\n",
    "    return x\n",
    "\n",
    "model = UNet(32)"
   ]
  },
  {
   "cell_type": "code",
   "execution_count": 12,
   "id": "fc218773-dfcd-4ff8-b7bd-096dd483bba6",
   "metadata": {},
   "outputs": [],
   "source": [
    "@jax.jit\n",
    "def apply_model(state, noisy_images, noise, timestamp):\n",
    "  \"\"\"Computes gradients and loss for a single batch.\"\"\"\n",
    "  def loss_fn(params):\n",
    "    \n",
    "    pred_noise = model.apply({'params': params}, [noisy_images, timestamp])\n",
    "    \n",
    "    loss = jnp.mean((noise - pred_noise) ** 2)\n",
    "    return loss\n",
    "\n",
    "  \n",
    "  grad_fn = jax.value_and_grad(loss_fn, has_aux=False)\n",
    "  loss, grads = grad_fn(state.params)\n",
    "  return grads, loss\n",
    "\n",
    "\n",
    "@jax.jit\n",
    "def update_model(state, grads):\n",
    "  \"\"\"Applies gradients to the model\"\"\"\n",
    "  return state.apply_gradients(grads=grads)"
   ]
  },
  {
   "cell_type": "code",
   "execution_count": 13,
   "id": "06441e3b-f0ed-41bd-96ce-fc47a26bab56",
   "metadata": {},
   "outputs": [],
   "source": [
    "def train_epoch(epoch_num, state, train_ds, batch_size, rng):\n",
    "\n",
    "  epoch_loss = []\n",
    "\n",
    "  for index, batch_images in enumerate(tqdm(train_ds)):\n",
    "    rng, tsrng = random.split(rng)\n",
    "    \n",
    "    timestamps = random.randint(tsrng, \n",
    "                                shape=(batch_images.shape[0],), \n",
    "                                minval=0, maxval=timesteps)\n",
    "    \n",
    "    noisy_images, noise = forward_noising(rng, batch_images, timestamps)\n",
    "    \n",
    "    grads, loss = apply_model(state, noisy_images, noise, timestamps)\n",
    "    \n",
    "    state = update_model(state, grads)\n",
    "    \n",
    "    epoch_loss.append(loss)\n",
    "    if index % 100 == 0:\n",
    "      print(f\"Loss at step {index}: \", loss)\n",
    "    \n",
    "    del timestamps \n",
    "  \n",
    "  train_loss = np.mean(epoch_loss)\n",
    "\n",
    "\n",
    "  return state, train_loss"
   ]
  },
  {
   "cell_type": "code",
   "execution_count": 14,
   "id": "40d2a177-b537-4473-a8be-d922aaeee312",
   "metadata": {},
   "outputs": [],
   "source": [
    "from flax.training import train_state\n",
    "\n",
    "def create_train_state(rng):\n",
    "  \"\"\"Creates initial `TrainState`.\"\"\"\n",
    "  \n",
    "  params = model.init(rng, [jnp.ones([1, 32, 32, 1]), jnp.ones([1,])])['params']\n",
    "  \n",
    "  tx = optax.adam(1e-4)\n",
    "   \n",
    "  return train_state.TrainState.create(apply_fn=model.apply, params=params, tx=tx)"
   ]
  },
  {
   "cell_type": "code",
   "execution_count": 15,
   "id": "7960af57-acda-4068-9d88-38cecc4ad71a",
   "metadata": {},
   "outputs": [],
   "source": [
    "log_state = []\n",
    "\n",
    "def train(train_ds) -> train_state.TrainState:\n",
    "  rng = jax.random.PRNGKey(0)\n",
    "  \n",
    "  rng, init_rng = jax.random.split(rng)\n",
    "    \n",
    "  state = create_train_state(init_rng)\n",
    "  \n",
    "  for epoch in range(1, NUM_EPOCHS + 1):\n",
    "    rng, input_rng = jax.random.split(rng)\n",
    "    \n",
    "    state, train_loss = train_epoch(epoch, state, train_ds, BATCH_SIZE, input_rng)\n",
    "    \n",
    "    print(f\"Training loss after epoch {epoch}: \", train_loss)\n",
    "    log_state.append(state) # Optional\n",
    "\n",
    "  return state"
   ]
  },
  {
   "cell_type": "code",
   "execution_count": 21,
   "id": "46da1330-32b5-414b-bcf0-bc4d704374fa",
   "metadata": {},
   "outputs": [
    {
     "data": {
      "application/vnd.jupyter.widget-view+json": {
       "model_id": "b2f5aa2e3a2147fbb4ba2863f3d48745",
       "version_major": 2,
       "version_minor": 0
      },
      "text/plain": [
       "  0%|          | 0/235 [00:00<?, ?it/s]"
      ]
     },
     "metadata": {},
     "output_type": "display_data"
    },
    {
     "name": "stdout",
     "output_type": "stream",
     "text": [
      "Loss at step 0:  "
     ]
    },
    {
     "ename": "XlaRuntimeError",
     "evalue": "FAILED_PRECONDITION: Buffer Definition Event: Error preparing computation: %sOut of memory allocating 56741052416 bytes.",
     "output_type": "error",
     "traceback": [
      "\u001B[1;31m---------------------------------------------------------------------------\u001B[0m",
      "\u001B[1;31mXlaRuntimeError\u001B[0m                           Traceback (most recent call last)",
      "Cell \u001B[1;32mIn[21], line 1\u001B[0m\n\u001B[1;32m----> 1\u001B[0m trained_state \u001B[38;5;241m=\u001B[39m \u001B[43mtrain\u001B[49m\u001B[43m(\u001B[49m\u001B[43mtrain_ds\u001B[49m\u001B[43m)\u001B[49m\n",
      "Cell \u001B[1;32mIn[15], line 20\u001B[0m, in \u001B[0;36mtrain\u001B[1;34m(train_ds)\u001B[0m\n\u001B[0;32m     17\u001B[0m rng, input_rng \u001B[38;5;241m=\u001B[39m jax\u001B[38;5;241m.\u001B[39mrandom\u001B[38;5;241m.\u001B[39msplit(rng)\n\u001B[0;32m     19\u001B[0m \u001B[38;5;66;03m# Call train epoch function\u001B[39;00m\n\u001B[1;32m---> 20\u001B[0m state, train_loss \u001B[38;5;241m=\u001B[39m \u001B[43mtrain_epoch\u001B[49m\u001B[43m(\u001B[49m\u001B[43mepoch\u001B[49m\u001B[43m,\u001B[49m\u001B[43m \u001B[49m\u001B[43mstate\u001B[49m\u001B[43m,\u001B[49m\u001B[43m \u001B[49m\u001B[43mtrain_ds\u001B[49m\u001B[43m,\u001B[49m\u001B[43m \u001B[49m\u001B[43mBATCH_SIZE\u001B[49m\u001B[43m,\u001B[49m\u001B[43m \u001B[49m\u001B[43minput_rng\u001B[49m\u001B[43m)\u001B[49m\n\u001B[0;32m     22\u001B[0m \u001B[38;5;66;03m# Print output loss and log the state at the end of every epoch\u001B[39;00m\n\u001B[0;32m     23\u001B[0m \u001B[38;5;28mprint\u001B[39m(\u001B[38;5;124mf\u001B[39m\u001B[38;5;124m\"\u001B[39m\u001B[38;5;124mTraining loss after epoch \u001B[39m\u001B[38;5;132;01m{\u001B[39;00mepoch\u001B[38;5;132;01m}\u001B[39;00m\u001B[38;5;124m: \u001B[39m\u001B[38;5;124m\"\u001B[39m, train_loss)\n",
      "Cell \u001B[1;32mIn[13], line 27\u001B[0m, in \u001B[0;36mtrain_epoch\u001B[1;34m(epoch_num, state, train_ds, batch_size, rng)\u001B[0m\n\u001B[0;32m     25\u001B[0m epoch_loss\u001B[38;5;241m.\u001B[39mappend(loss)\n\u001B[0;32m     26\u001B[0m \u001B[38;5;28;01mif\u001B[39;00m index \u001B[38;5;241m%\u001B[39m \u001B[38;5;241m100\u001B[39m \u001B[38;5;241m==\u001B[39m \u001B[38;5;241m0\u001B[39m:\n\u001B[1;32m---> 27\u001B[0m   \u001B[38;5;28;43mprint\u001B[39;49m\u001B[43m(\u001B[49m\u001B[38;5;124;43mf\u001B[39;49m\u001B[38;5;124;43m\"\u001B[39;49m\u001B[38;5;124;43mLoss at step \u001B[39;49m\u001B[38;5;132;43;01m{\u001B[39;49;00m\u001B[43mindex\u001B[49m\u001B[38;5;132;43;01m}\u001B[39;49;00m\u001B[38;5;124;43m: \u001B[39;49m\u001B[38;5;124;43m\"\u001B[39;49m\u001B[43m,\u001B[49m\u001B[43m \u001B[49m\u001B[43mloss\u001B[49m\u001B[43m)\u001B[49m\n\u001B[0;32m     29\u001B[0m \u001B[38;5;66;03m# Timestamps are not needed anymore. Saves some memory.\u001B[39;00m\n\u001B[0;32m     30\u001B[0m \u001B[38;5;28;01mdel\u001B[39;00m timestamps \n",
      "File \u001B[1;32mD:\\Apps\\anaconda\\Lib\\site-packages\\jax\\_src\\array.py:285\u001B[0m, in \u001B[0;36mArrayImpl.__str__\u001B[1;34m(self)\u001B[0m\n\u001B[0;32m    284\u001B[0m \u001B[38;5;28;01mdef\u001B[39;00m \u001B[38;5;21m__str__\u001B[39m(\u001B[38;5;28mself\u001B[39m):\n\u001B[1;32m--> 285\u001B[0m   \u001B[38;5;28;01mreturn\u001B[39;00m \u001B[38;5;28mstr\u001B[39m(\u001B[38;5;28;43mself\u001B[39;49m\u001B[38;5;241;43m.\u001B[39;49m\u001B[43m_value\u001B[49m)\n",
      "File \u001B[1;32mD:\\Apps\\anaconda\\Lib\\site-packages\\jax\\_src\\profiler.py:333\u001B[0m, in \u001B[0;36mannotate_function.<locals>.wrapper\u001B[1;34m(*args, **kwargs)\u001B[0m\n\u001B[0;32m    330\u001B[0m \u001B[38;5;129m@wraps\u001B[39m(func)\n\u001B[0;32m    331\u001B[0m \u001B[38;5;28;01mdef\u001B[39;00m \u001B[38;5;21mwrapper\u001B[39m(\u001B[38;5;241m*\u001B[39margs, \u001B[38;5;241m*\u001B[39m\u001B[38;5;241m*\u001B[39mkwargs):\n\u001B[0;32m    332\u001B[0m   \u001B[38;5;28;01mwith\u001B[39;00m TraceAnnotation(name, \u001B[38;5;241m*\u001B[39m\u001B[38;5;241m*\u001B[39mdecorator_kwargs):\n\u001B[1;32m--> 333\u001B[0m     \u001B[38;5;28;01mreturn\u001B[39;00m \u001B[43mfunc\u001B[49m\u001B[43m(\u001B[49m\u001B[38;5;241;43m*\u001B[39;49m\u001B[43margs\u001B[49m\u001B[43m,\u001B[49m\u001B[43m \u001B[49m\u001B[38;5;241;43m*\u001B[39;49m\u001B[38;5;241;43m*\u001B[39;49m\u001B[43mkwargs\u001B[49m\u001B[43m)\u001B[49m\n\u001B[0;32m    334\u001B[0m   \u001B[38;5;28;01mreturn\u001B[39;00m wrapper\n",
      "File \u001B[1;32mD:\\Apps\\anaconda\\Lib\\site-packages\\jax\\_src\\array.py:629\u001B[0m, in \u001B[0;36mArrayImpl._value\u001B[1;34m(self)\u001B[0m\n\u001B[0;32m    627\u001B[0m \u001B[38;5;28;01mif\u001B[39;00m \u001B[38;5;28mself\u001B[39m\u001B[38;5;241m.\u001B[39m_npy_value \u001B[38;5;129;01mis\u001B[39;00m \u001B[38;5;28;01mNone\u001B[39;00m:\n\u001B[0;32m    628\u001B[0m   \u001B[38;5;28;01mif\u001B[39;00m \u001B[38;5;28mself\u001B[39m\u001B[38;5;241m.\u001B[39mis_fully_replicated:\n\u001B[1;32m--> 629\u001B[0m     \u001B[38;5;28mself\u001B[39m\u001B[38;5;241m.\u001B[39m_npy_value \u001B[38;5;241m=\u001B[39m \u001B[38;5;28;43mself\u001B[39;49m\u001B[38;5;241;43m.\u001B[39;49m\u001B[43m_single_device_array_to_np_array\u001B[49m\u001B[43m(\u001B[49m\u001B[43m)\u001B[49m\n\u001B[0;32m    630\u001B[0m     \u001B[38;5;28mself\u001B[39m\u001B[38;5;241m.\u001B[39m_npy_value\u001B[38;5;241m.\u001B[39mflags\u001B[38;5;241m.\u001B[39mwriteable \u001B[38;5;241m=\u001B[39m \u001B[38;5;28;01mFalse\u001B[39;00m\n\u001B[0;32m    631\u001B[0m     \u001B[38;5;28;01mreturn\u001B[39;00m cast(np\u001B[38;5;241m.\u001B[39mndarray, \u001B[38;5;28mself\u001B[39m\u001B[38;5;241m.\u001B[39m_npy_value)\n",
      "\u001B[1;31mXlaRuntimeError\u001B[0m: FAILED_PRECONDITION: Buffer Definition Event: Error preparing computation: %sOut of memory allocating 56741052416 bytes."
     ]
    }
   ],
   "source": [
    "trained_state = train(train_ds)"
   ]
  },
  {
   "cell_type": "code",
   "execution_count": null,
   "id": "37000903-335d-4b85-80d1-93f718907bc1",
   "metadata": {},
   "outputs": [],
   "source": [
    "# This function defines the logic of getting x_t-1 given x_t\n",
    "def backward_denoising_ddpm(x_t, pred_noise, t):\n",
    "  alpha_t = jnp.take(alpha, t)\n",
    "  alpha_t_bar = jnp.take(alpha_bar, t)\n",
    "  \n",
    "  eps_coef = (1 - alpha_t) / (1 - alpha_t_bar) ** .5  \n",
    "  mean = 1 / (alpha_t ** 0.5) * (x_t - eps_coef * pred_noise)\n",
    "  \n",
    "  var = jnp.take(beta, t)\n",
    "  z = random.normal(key=random.PRNGKey(r.randint(1, 100)), shape=x_t.shape)\n",
    "\n",
    "  return mean + (var ** 0.5) * z"
   ]
  },
  {
   "cell_type": "code",
   "execution_count": null,
   "id": "fe6927aa-8217-4d48-bf51-c255711a3841",
   "metadata": {},
   "outputs": [],
   "source": [
    "# Save a GIF using logged images\n",
    "\n",
    "def save_gif(img_list, path=\"\"):\n",
    "    # Transform images from [-1,1] to [0, 255]\n",
    "    imgs = (Image.fromarray(np.array((np.array(i) * 127.5) + 1, np.int32)) for i in img_list)\n",
    "\n",
    "    # Extract first image from iterator\n",
    "    img = next(imgs)  \n",
    "\n",
    "    # Append the other images and save as GIF\n",
    "    img.save(fp=path, format='GIF', append_images=imgs,\n",
    "             save_all=True, duration=200, loop=0)"
   ]
  },
  {
   "cell_type": "code",
   "execution_count": null,
   "id": "0fa87f53-01aa-46a9-b6e7-89b06b8d566e",
   "metadata": {},
   "outputs": [],
   "source": [
    "# Generating Gaussian noise\n",
    "x = random.normal(random.PRNGKey(42), (1, 32, 32, 1))\n",
    "\n",
    "trained_state = log_state[-1]\n",
    "\n",
    "# Create a list to store output images\n",
    "img_list_ddpm = []\n",
    "\n",
    "# Append the initial noise to the list of images\n",
    "img_list_ddpm.append(jnp.squeeze(jnp.squeeze(x, 0),-1))\n",
    "\n",
    "# Iterate over T timesteps\n",
    "for i in tqdm(range(0, timesteps - 1)):\n",
    "  # t-th timestep  \n",
    "  t = jnp.expand_dims(jnp.array(timesteps - i - 1, jnp.int32), 0)\n",
    "  \n",
    "  # Predict noise using U-Net\n",
    "  pred_noise = model.apply({'params': trained_state.params}, [x, t])\n",
    "  \n",
    "  # Obtain the output from the noise using the formula seen before\n",
    "  x = backward_denoising_ddpm(x, pred_noise, t)\n",
    "\n",
    "  # Log the image after every 25 iterations\n",
    "  if i % 25 == 0:\n",
    "    img_list_ddpm.append(jnp.squeeze(jnp.squeeze(x, 0),-1))\n",
    "    plt.imshow(jnp.squeeze(jnp.squeeze(x, 0),-1), cmap='gray')\n",
    "    plt.show()\n",
    "\n",
    "# Display the final generated image\n",
    "plt.imshow(jnp.squeeze(jnp.squeeze(x, 0),-1), cmap='gray')\n",
    "plt.show()\n",
    "\n",
    "# Save generated GIF\n",
    "save_gif(img_list_ddpm, path=\"output_ddpm.gif\")"
   ]
  },
  {
   "cell_type": "code",
   "execution_count": null,
   "id": "82b0aab4-df64-4a5a-9b99-9c05077c356f",
   "metadata": {},
   "outputs": [],
   "source": [
    "# Display GIF\n",
    "display.Image(url='output_ddpm.gif', width=128, height=128)"
   ]
  }
 ],
 "metadata": {
  "kernelspec": {
   "display_name": "Python 3 (ipykernel)",
   "language": "python",
   "name": "python3"
  },
  "language_info": {
   "codemirror_mode": {
    "name": "ipython",
    "version": 3
   },
   "file_extension": ".py",
   "mimetype": "text/x-python",
   "name": "python",
   "nbconvert_exporter": "python",
   "pygments_lexer": "ipython3",
   "version": "3.12.4"
  }
 },
 "nbformat": 4,
 "nbformat_minor": 5
}
